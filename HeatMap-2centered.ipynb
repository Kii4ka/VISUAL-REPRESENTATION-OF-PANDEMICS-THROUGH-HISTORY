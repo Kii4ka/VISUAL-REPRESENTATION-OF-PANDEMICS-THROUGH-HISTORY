{
 "cells": [
  {
   "cell_type": "code",
   "execution_count": 1,
   "id": "635fb307-50aa-4c57-9cb7-35bc710dd8ea",
   "metadata": {},
   "outputs": [
    {
     "data": {
      "text/html": [
       "<div>\n",
       "<style scoped>\n",
       "    .dataframe tbody tr th:only-of-type {\n",
       "        vertical-align: middle;\n",
       "    }\n",
       "\n",
       "    .dataframe tbody tr th {\n",
       "        vertical-align: top;\n",
       "    }\n",
       "\n",
       "    .dataframe thead th {\n",
       "        text-align: right;\n",
       "    }\n",
       "</style>\n",
       "<table border=\"1\" class=\"dataframe\">\n",
       "  <thead>\n",
       "    <tr style=\"text-align: right;\">\n",
       "      <th></th>\n",
       "      <th>geo_location_cent_id</th>\n",
       "      <th>location_id</th>\n",
       "      <th>country</th>\n",
       "      <th>latitude</th>\n",
       "      <th>longitude</th>\n",
       "      <th>cnt_loc</th>\n",
       "    </tr>\n",
       "  </thead>\n",
       "  <tbody>\n",
       "    <tr>\n",
       "      <th>0</th>\n",
       "      <td>251</td>\n",
       "      <td>178</td>\n",
       "      <td>Bulgaria</td>\n",
       "      <td>42.733883</td>\n",
       "      <td>25.485830</td>\n",
       "      <td>2</td>\n",
       "    </tr>\n",
       "    <tr>\n",
       "      <th>1</th>\n",
       "      <td>288</td>\n",
       "      <td>25</td>\n",
       "      <td>Algeria</td>\n",
       "      <td>28.033886</td>\n",
       "      <td>1.659626</td>\n",
       "      <td>61</td>\n",
       "    </tr>\n",
       "    <tr>\n",
       "      <th>2</th>\n",
       "      <td>283</td>\n",
       "      <td>224</td>\n",
       "      <td>Germany</td>\n",
       "      <td>51.165691</td>\n",
       "      <td>10.451526</td>\n",
       "      <td>8</td>\n",
       "    </tr>\n",
       "    <tr>\n",
       "      <th>3</th>\n",
       "      <td>436</td>\n",
       "      <td>168</td>\n",
       "      <td>Syria</td>\n",
       "      <td>34.802075</td>\n",
       "      <td>38.996815</td>\n",
       "      <td>69</td>\n",
       "    </tr>\n",
       "    <tr>\n",
       "      <th>4</th>\n",
       "      <td>363</td>\n",
       "      <td>22</td>\n",
       "      <td>Libya</td>\n",
       "      <td>26.335100</td>\n",
       "      <td>17.228331</td>\n",
       "      <td>66</td>\n",
       "    </tr>\n",
       "  </tbody>\n",
       "</table>\n",
       "</div>"
      ],
      "text/plain": [
       "   geo_location_cent_id  location_id   country   latitude  longitude  cnt_loc\n",
       "0                   251          178  Bulgaria  42.733883  25.485830        2\n",
       "1                   288           25   Algeria  28.033886   1.659626       61\n",
       "2                   283          224   Germany  51.165691  10.451526        8\n",
       "3                   436          168     Syria  34.802075  38.996815       69\n",
       "4                   363           22     Libya  26.335100  17.228331       66"
      ]
     },
     "execution_count": 1,
     "metadata": {},
     "output_type": "execute_result"
    }
   ],
   "source": [
    "import pandas as pd\n",
    "\n",
    "population_data = pd.read_csv(r\"cent_loc_cnt.csv\")\n",
    "\n",
    "population_data.head()"
   ]
  },
  {
   "cell_type": "code",
   "execution_count": 2,
   "id": "05afb9c6-dfc9-43d2-a465-444d51959cf0",
   "metadata": {},
   "outputs": [
    {
     "data": {
      "text/plain": [
       "[[42.733883, 25.48583, 2],\n",
       " [28.033886, 1.659626, 61],\n",
       " [51.165691, 10.451526, 8],\n",
       " [34.802075, 38.996815, 69],\n",
       " [26.3351, 17.228331, 66]]"
      ]
     },
     "execution_count": 2,
     "metadata": {},
     "output_type": "execute_result"
    }
   ],
   "source": [
    "lats_longs_weight = list(map(list, zip(population_data[\"latitude\"],\n",
    "                          population_data[\"longitude\"],\n",
    "                          population_data[\"cnt_loc\"]\n",
    "                         )\n",
    "               )\n",
    "           )\n",
    "lats_longs_weight[:5]"
   ]
  },
  {
   "cell_type": "code",
   "execution_count": 3,
   "id": "afb092ed-caec-4745-9cee-50f627a903ca",
   "metadata": {},
   "outputs": [
    {
     "data": {
      "text/html": [
       "<div style=\"width:100%;\"><div style=\"position:relative;width:100%;height:0;padding-bottom:60%;\"><span style=\"color:#565656\">Make this Notebook Trusted to load map: File -> Trust Notebook</span><iframe srcdoc=\"&lt;!DOCTYPE html&gt;\n",
       "&lt;html&gt;\n",
       "&lt;head&gt;\n",
       "    \n",
       "    &lt;meta http-equiv=&quot;content-type&quot; content=&quot;text/html; charset=UTF-8&quot; /&gt;\n",
       "    \n",
       "        &lt;script&gt;\n",
       "            L_NO_TOUCH = false;\n",
       "            L_DISABLE_3D = false;\n",
       "        &lt;/script&gt;\n",
       "    \n",
       "    &lt;style&gt;html, body {width: 100%;height: 100%;margin: 0;padding: 0;}&lt;/style&gt;\n",
       "    &lt;style&gt;#map {position:absolute;top:0;bottom:0;right:0;left:0;}&lt;/style&gt;\n",
       "    &lt;script src=&quot;https://cdn.jsdelivr.net/npm/leaflet@1.9.3/dist/leaflet.js&quot;&gt;&lt;/script&gt;\n",
       "    &lt;script src=&quot;https://code.jquery.com/jquery-3.7.1.min.js&quot;&gt;&lt;/script&gt;\n",
       "    &lt;script src=&quot;https://cdn.jsdelivr.net/npm/bootstrap@5.2.2/dist/js/bootstrap.bundle.min.js&quot;&gt;&lt;/script&gt;\n",
       "    &lt;script src=&quot;https://cdnjs.cloudflare.com/ajax/libs/Leaflet.awesome-markers/2.0.2/leaflet.awesome-markers.js&quot;&gt;&lt;/script&gt;\n",
       "    &lt;link rel=&quot;stylesheet&quot; href=&quot;https://cdn.jsdelivr.net/npm/leaflet@1.9.3/dist/leaflet.css&quot;/&gt;\n",
       "    &lt;link rel=&quot;stylesheet&quot; href=&quot;https://cdn.jsdelivr.net/npm/bootstrap@5.2.2/dist/css/bootstrap.min.css&quot;/&gt;\n",
       "    &lt;link rel=&quot;stylesheet&quot; href=&quot;https://netdna.bootstrapcdn.com/bootstrap/3.0.0/css/bootstrap.min.css&quot;/&gt;\n",
       "    &lt;link rel=&quot;stylesheet&quot; href=&quot;https://cdn.jsdelivr.net/npm/@fortawesome/fontawesome-free@6.2.0/css/all.min.css&quot;/&gt;\n",
       "    &lt;link rel=&quot;stylesheet&quot; href=&quot;https://cdnjs.cloudflare.com/ajax/libs/Leaflet.awesome-markers/2.0.2/leaflet.awesome-markers.css&quot;/&gt;\n",
       "    &lt;link rel=&quot;stylesheet&quot; href=&quot;https://cdn.jsdelivr.net/gh/python-visualization/folium/folium/templates/leaflet.awesome.rotate.min.css&quot;/&gt;\n",
       "    \n",
       "            &lt;meta name=&quot;viewport&quot; content=&quot;width=device-width,\n",
       "                initial-scale=1.0, maximum-scale=1.0, user-scalable=no&quot; /&gt;\n",
       "            &lt;style&gt;\n",
       "                #map_4759826ae572a88beaddb5ead916b453 {\n",
       "                    position: relative;\n",
       "                    width: 100.0%;\n",
       "                    height: 100.0%;\n",
       "                    left: 0.0%;\n",
       "                    top: 0.0%;\n",
       "                }\n",
       "                .leaflet-container { font-size: 1rem; }\n",
       "            &lt;/style&gt;\n",
       "        \n",
       "    &lt;script src=&quot;https://cdn.jsdelivr.net/gh/python-visualization/folium@main/folium/templates/leaflet_heat.min.js&quot;&gt;&lt;/script&gt;\n",
       "&lt;/head&gt;\n",
       "&lt;body&gt;\n",
       "    \n",
       "    \n",
       "            &lt;div class=&quot;folium-map&quot; id=&quot;map_4759826ae572a88beaddb5ead916b453&quot; &gt;&lt;/div&gt;\n",
       "        \n",
       "&lt;/body&gt;\n",
       "&lt;script&gt;\n",
       "    \n",
       "    \n",
       "            var map_4759826ae572a88beaddb5ead916b453 = L.map(\n",
       "                &quot;map_4759826ae572a88beaddb5ead916b453&quot;,\n",
       "                {\n",
       "                    center: [35.233333, 31.766666666666666],\n",
       "                    crs: L.CRS.EPSG3857,\n",
       "                    zoom: 9,\n",
       "                    zoomControl: true,\n",
       "                    preferCanvas: false,\n",
       "                }\n",
       "            );\n",
       "\n",
       "            \n",
       "\n",
       "        \n",
       "    \n",
       "            var tile_layer_9cd0870880ec10b7c9a064d98ec6dbad = L.tileLayer(\n",
       "                &quot;https://tile.openstreetmap.org/{z}/{x}/{y}.png&quot;,\n",
       "                {&quot;attribution&quot;: &quot;\\u0026copy; \\u003ca href=\\&quot;https://www.openstreetmap.org/copyright\\&quot;\\u003eOpenStreetMap\\u003c/a\\u003e contributors&quot;, &quot;detectRetina&quot;: false, &quot;maxNativeZoom&quot;: 19, &quot;maxZoom&quot;: 19, &quot;minZoom&quot;: 0, &quot;noWrap&quot;: false, &quot;opacity&quot;: 1, &quot;subdomains&quot;: &quot;abc&quot;, &quot;tms&quot;: false}\n",
       "            );\n",
       "        \n",
       "    \n",
       "            tile_layer_9cd0870880ec10b7c9a064d98ec6dbad.addTo(map_4759826ae572a88beaddb5ead916b453);\n",
       "        \n",
       "    \n",
       "            var heat_map_6aef4340af943c8c3868cc1c0355355c = L.heatLayer(\n",
       "                [[42.733883, 25.48583, 2], [28.033886, 1.659626, 61], [51.165691, 10.451526, 8], [34.802075, 38.996815, 69], [26.3351, 17.228331, 66], [55.378051, -3.435973, 6], [47.516231, 14.550072, 2], [35.86166, 104.195397, 3], [33.223191, 43.679291, 1], [30.585164, 36.238414, 6], [12.862807, 30.217636, 3], [42.602636, 20.902977, 3], [46.227638, 2.213749, 12], [33.886917, 9.537499, 61], [39.399872, -8.224454, 57], [39.074208, 21.824312, 69], [53.41291, -8.24389, 4], [26.820553, 30.802498, 69], [50.503887, 4.469936, 8], [40.069099, 45.038189, 1], [38.963745, 35.243322, 89], [41.153332, 20.168331, 3], [46.151241, 14.995463, 3], [41.87194, 12.56738, 105], [48.669026, 19.699024, 1], [45.1, 15.2, 4], [35.126413, 33.429859, 2], [40.463667, -3.74922, 59], [33.854721, 35.862285, 8], [44.016521, 21.005859, 37], [43.915886, 17.679076, 3], [31.046051, 34.851612, 12], [29.31166, 47.481766, 2], [42.708678, 19.37439, 2], [32.427908, 53.688046, 6], [47.162494, 19.503304, 1], [31.791702, -7.09262, 60]],\n",
       "                {&quot;blur&quot;: 15, &quot;maxZoom&quot;: 18, &quot;minOpacity&quot;: 0.5, &quot;radius&quot;: 25}\n",
       "            );\n",
       "        \n",
       "    \n",
       "            heat_map_6aef4340af943c8c3868cc1c0355355c.addTo(map_4759826ae572a88beaddb5ead916b453);\n",
       "        \n",
       "&lt;/script&gt;\n",
       "&lt;/html&gt;\" style=\"position:absolute;width:100%;height:100%;left:0;top:0;border:none !important;\" allowfullscreen webkitallowfullscreen mozallowfullscreen></iframe></div></div>"
      ],
      "text/plain": [
       "<folium.folium.Map at 0x145013390>"
      ]
     },
     "execution_count": 3,
     "metadata": {},
     "output_type": "execute_result"
    }
   ],
   "source": [
    "import folium\n",
    "\n",
    "from folium.plugins import HeatMap\n",
    "\n",
    "\n",
    "map_obj = folium.Map(location = [35.233333, 31.766666666666666], zoom_start = 9)\n",
    "\n",
    "HeatMap(lats_longs_weight).add_to(map_obj)\n",
    "\n",
    "map_obj"
   ]
  },
  {
   "cell_type": "code",
   "execution_count": 18,
   "id": "e8a6e518-b977-4f9e-a43c-30bf16a37e95",
   "metadata": {},
   "outputs": [],
   "source": [
    "map_obj.save(\"heat_map-2.html\")"
   ]
  },
  {
   "cell_type": "code",
   "execution_count": 21,
   "id": "dbec14d3-0fff-4fbe-9cd6-dea669c88b37",
   "metadata": {},
   "outputs": [],
   "source": [
    "map_obj.save(\"heat_map-2.png\")"
   ]
  },
  {
   "cell_type": "code",
   "execution_count": 6,
   "id": "a29afccd-8ed6-46f3-945e-d2464d994771",
   "metadata": {},
   "outputs": [],
   "source": [
    "map_obj.save(\"heat_map-2cent.html\")"
   ]
  },
  {
   "cell_type": "code",
   "execution_count": null,
   "id": "8b11823a-3fda-4f9f-9aa6-a89d37680428",
   "metadata": {},
   "outputs": [],
   "source": []
  }
 ],
 "metadata": {
  "kernelspec": {
   "display_name": "Python 3 (ipykernel)",
   "language": "python",
   "name": "python3"
  },
  "language_info": {
   "codemirror_mode": {
    "name": "ipython",
    "version": 3
   },
   "file_extension": ".py",
   "mimetype": "text/x-python",
   "name": "python",
   "nbconvert_exporter": "python",
   "pygments_lexer": "ipython3",
   "version": "3.11.5"
  }
 },
 "nbformat": 4,
 "nbformat_minor": 5
}
