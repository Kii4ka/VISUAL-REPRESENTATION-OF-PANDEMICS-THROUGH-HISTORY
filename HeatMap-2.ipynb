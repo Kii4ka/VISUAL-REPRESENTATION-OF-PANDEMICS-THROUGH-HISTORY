{
 "cells": [
  {
   "cell_type": "code",
   "execution_count": 7,
   "id": "635fb307-50aa-4c57-9cb7-35bc710dd8ea",
   "metadata": {},
   "outputs": [
    {
     "data": {
      "text/html": [
       "<div>\n",
       "<style scoped>\n",
       "    .dataframe tbody tr th:only-of-type {\n",
       "        vertical-align: middle;\n",
       "    }\n",
       "\n",
       "    .dataframe tbody tr th {\n",
       "        vertical-align: top;\n",
       "    }\n",
       "\n",
       "    .dataframe thead th {\n",
       "        text-align: right;\n",
       "    }\n",
       "</style>\n",
       "<table border=\"1\" class=\"dataframe\">\n",
       "  <thead>\n",
       "    <tr style=\"text-align: right;\">\n",
       "      <th></th>\n",
       "      <th>geo_location_id</th>\n",
       "      <th>location_id</th>\n",
       "      <th>countryname</th>\n",
       "      <th>capitallatitude</th>\n",
       "      <th>capitallongitude</th>\n",
       "      <th>cnt_loc</th>\n",
       "    </tr>\n",
       "  </thead>\n",
       "  <tbody>\n",
       "    <tr>\n",
       "      <th>0</th>\n",
       "      <td>4</td>\n",
       "      <td>166</td>\n",
       "      <td>Palestine</td>\n",
       "      <td>31.766667</td>\n",
       "      <td>35.233333</td>\n",
       "      <td>5</td>\n",
       "    </tr>\n",
       "    <tr>\n",
       "      <th>1</th>\n",
       "      <td>87</td>\n",
       "      <td>224</td>\n",
       "      <td>Germany</td>\n",
       "      <td>52.516667</td>\n",
       "      <td>13.400000</td>\n",
       "      <td>8</td>\n",
       "    </tr>\n",
       "    <tr>\n",
       "      <th>2</th>\n",
       "      <td>204</td>\n",
       "      <td>27</td>\n",
       "      <td>Sudan</td>\n",
       "      <td>15.600000</td>\n",
       "      <td>32.533333</td>\n",
       "      <td>3</td>\n",
       "    </tr>\n",
       "    <tr>\n",
       "      <th>3</th>\n",
       "      <td>29</td>\n",
       "      <td>222</td>\n",
       "      <td>Belgium</td>\n",
       "      <td>50.833333</td>\n",
       "      <td>4.333333</td>\n",
       "      <td>8</td>\n",
       "    </tr>\n",
       "    <tr>\n",
       "      <th>4</th>\n",
       "      <td>174</td>\n",
       "      <td>209</td>\n",
       "      <td>Portugal</td>\n",
       "      <td>38.716667</td>\n",
       "      <td>-9.133333</td>\n",
       "      <td>57</td>\n",
       "    </tr>\n",
       "  </tbody>\n",
       "</table>\n",
       "</div>"
      ],
      "text/plain": [
       "   geo_location_id  location_id countryname  capitallatitude  \\\n",
       "0                4          166   Palestine        31.766667   \n",
       "1               87          224     Germany        52.516667   \n",
       "2              204           27       Sudan        15.600000   \n",
       "3               29          222     Belgium        50.833333   \n",
       "4              174          209    Portugal        38.716667   \n",
       "\n",
       "   capitallongitude  cnt_loc  \n",
       "0         35.233333        5  \n",
       "1         13.400000        8  \n",
       "2         32.533333        3  \n",
       "3          4.333333        8  \n",
       "4         -9.133333       57  "
      ]
     },
     "execution_count": 7,
     "metadata": {},
     "output_type": "execute_result"
    }
   ],
   "source": [
    "import pandas as pd\n",
    "\n",
    "population_data = pd.read_csv(r\"data-1670821866287.csv\")\n",
    "\n",
    "population_data.head()"
   ]
  },
  {
   "cell_type": "code",
   "execution_count": 8,
   "id": "05afb9c6-dfc9-43d2-a465-444d51959cf0",
   "metadata": {},
   "outputs": [
    {
     "data": {
      "text/plain": [
       "[[31.766666666666666, 35.233333, 5],\n",
       " [52.516666666666666, 13.4, 8],\n",
       " [15.6, 32.533333, 3],\n",
       " [50.833333333333336, 4.333333, 8],\n",
       " [38.71666666666667, -9.133333, 57]]"
      ]
     },
     "execution_count": 8,
     "metadata": {},
     "output_type": "execute_result"
    }
   ],
   "source": [
    "lats_longs_weight = list(map(list, zip(population_data[\"capitallatitude\"],\n",
    "                          population_data[\"capitallongitude\"],\n",
    "                          population_data[\"cnt_loc\"]\n",
    "                         )\n",
    "               )\n",
    "           )\n",
    "lats_longs_weight[:5]"
   ]
  },
  {
   "cell_type": "code",
   "execution_count": 16,
   "id": "afb092ed-caec-4745-9cee-50f627a903ca",
   "metadata": {},
   "outputs": [
    {
     "data": {
      "text/html": [
       "<div style=\"width:100%;\"><div style=\"position:relative;width:100%;height:0;padding-bottom:60%;\"><span style=\"color:#565656\">Make this Notebook Trusted to load map: File -> Trust Notebook</span><iframe srcdoc=\"&lt;!DOCTYPE html&gt;\n",
       "&lt;html&gt;\n",
       "&lt;head&gt;\n",
       "    \n",
       "    &lt;meta http-equiv=&quot;content-type&quot; content=&quot;text/html; charset=UTF-8&quot; /&gt;\n",
       "    \n",
       "        &lt;script&gt;\n",
       "            L_NO_TOUCH = false;\n",
       "            L_DISABLE_3D = false;\n",
       "        &lt;/script&gt;\n",
       "    \n",
       "    &lt;style&gt;html, body {width: 100%;height: 100%;margin: 0;padding: 0;}&lt;/style&gt;\n",
       "    &lt;style&gt;#map {position:absolute;top:0;bottom:0;right:0;left:0;}&lt;/style&gt;\n",
       "    &lt;script src=&quot;https://cdn.jsdelivr.net/npm/leaflet@1.6.0/dist/leaflet.js&quot;&gt;&lt;/script&gt;\n",
       "    &lt;script src=&quot;https://code.jquery.com/jquery-1.12.4.min.js&quot;&gt;&lt;/script&gt;\n",
       "    &lt;script src=&quot;https://maxcdn.bootstrapcdn.com/bootstrap/3.2.0/js/bootstrap.min.js&quot;&gt;&lt;/script&gt;\n",
       "    &lt;script src=&quot;https://cdnjs.cloudflare.com/ajax/libs/Leaflet.awesome-markers/2.0.2/leaflet.awesome-markers.js&quot;&gt;&lt;/script&gt;\n",
       "    &lt;link rel=&quot;stylesheet&quot; href=&quot;https://cdn.jsdelivr.net/npm/leaflet@1.6.0/dist/leaflet.css&quot;/&gt;\n",
       "    &lt;link rel=&quot;stylesheet&quot; href=&quot;https://maxcdn.bootstrapcdn.com/bootstrap/3.2.0/css/bootstrap.min.css&quot;/&gt;\n",
       "    &lt;link rel=&quot;stylesheet&quot; href=&quot;https://maxcdn.bootstrapcdn.com/bootstrap/3.2.0/css/bootstrap-theme.min.css&quot;/&gt;\n",
       "    &lt;link rel=&quot;stylesheet&quot; href=&quot;https://maxcdn.bootstrapcdn.com/font-awesome/4.6.3/css/font-awesome.min.css&quot;/&gt;\n",
       "    &lt;link rel=&quot;stylesheet&quot; href=&quot;https://cdnjs.cloudflare.com/ajax/libs/Leaflet.awesome-markers/2.0.2/leaflet.awesome-markers.css&quot;/&gt;\n",
       "    &lt;link rel=&quot;stylesheet&quot; href=&quot;https://cdn.jsdelivr.net/gh/python-visualization/folium/folium/templates/leaflet.awesome.rotate.min.css&quot;/&gt;\n",
       "    \n",
       "            &lt;meta name=&quot;viewport&quot; content=&quot;width=device-width,\n",
       "                initial-scale=1.0, maximum-scale=1.0, user-scalable=no&quot; /&gt;\n",
       "            &lt;style&gt;\n",
       "                #map_fafd6fd52e3c0da755662744687e4219 {\n",
       "                    position: relative;\n",
       "                    width: 100.0%;\n",
       "                    height: 100.0%;\n",
       "                    left: 0.0%;\n",
       "                    top: 0.0%;\n",
       "                }\n",
       "            &lt;/style&gt;\n",
       "        \n",
       "    &lt;script src=&quot;https://cdn.jsdelivr.net/gh/python-visualization/folium@main/folium/templates/leaflet_heat.min.js&quot;&gt;&lt;/script&gt;\n",
       "&lt;/head&gt;\n",
       "&lt;body&gt;\n",
       "    \n",
       "    \n",
       "            &lt;div class=&quot;folium-map&quot; id=&quot;map_fafd6fd52e3c0da755662744687e4219&quot; &gt;&lt;/div&gt;\n",
       "        \n",
       "&lt;/body&gt;\n",
       "&lt;script&gt;\n",
       "    \n",
       "    \n",
       "            var map_fafd6fd52e3c0da755662744687e4219 = L.map(\n",
       "                &quot;map_fafd6fd52e3c0da755662744687e4219&quot;,\n",
       "                {\n",
       "                    center: [35.233333, 31.766666666666666],\n",
       "                    crs: L.CRS.EPSG3857,\n",
       "                    zoom: 6,\n",
       "                    zoomControl: true,\n",
       "                    preferCanvas: false,\n",
       "                }\n",
       "            );\n",
       "\n",
       "            \n",
       "\n",
       "        \n",
       "    \n",
       "            var tile_layer_e7c714a8d5968e41a763dc998d9ba4a0 = L.tileLayer(\n",
       "                &quot;https://{s}.tile.openstreetmap.org/{z}/{x}/{y}.png&quot;,\n",
       "                {&quot;attribution&quot;: &quot;Data by \\u0026copy; \\u003ca href=\\&quot;http://openstreetmap.org\\&quot;\\u003eOpenStreetMap\\u003c/a\\u003e, under \\u003ca href=\\&quot;http://www.openstreetmap.org/copyright\\&quot;\\u003eODbL\\u003c/a\\u003e.&quot;, &quot;detectRetina&quot;: false, &quot;maxNativeZoom&quot;: 18, &quot;maxZoom&quot;: 18, &quot;minZoom&quot;: 0, &quot;noWrap&quot;: false, &quot;opacity&quot;: 1, &quot;subdomains&quot;: &quot;abc&quot;, &quot;tms&quot;: false}\n",
       "            ).addTo(map_fafd6fd52e3c0da755662744687e4219);\n",
       "        \n",
       "    \n",
       "            var heat_map_ea70c0ea7d094940ba8ae0efe9d21b5b = L.heatLayer(\n",
       "                [[31.766666666666666, 35.233333, 5], [52.516666666666666, 13.4, 8], [15.6, 32.533333, 3], [50.833333333333336, 4.333333, 8], [38.71666666666667, -9.133333, 57], [31.95, 35.933333, 6], [37.98333333333333, 23.733333, 69], [42.68333333333333, 23.316667, 2], [53.31666666666667, -6.233333, 4], [36.75, 3.05, 61], [51.5, -0.083333, 6], [35.166666666666664, 33.366667, 2], [41.9, 12.483333, 105], [48.2, 16.366667, 2], [34.016666666666666, -6.816667, 60], [33.333333333333336, 44.4, 1], [33.5, 36.3, 69], [44.833333333333336, 20.5, 37], [41.31666666666667, 19.816667, 3], [43.86666666666667, 18.416667, 3], [42.66666666666666, 21.166667, 3], [45.8, 16.0, 4], [29.366666666666667, 47.966667, 2], [30.05, 31.25, 69], [33.86666666666667, 35.5, 8], [46.05, 14.516667, 3], [36.8, 10.183333, 61], [40.16666666666666, 44.5, 1], [31.766666666666666, 35.233333, 12], [40.4, -3.683333, 59], [39.93333333333333, 32.866667, 89], [48.15, 17.116667, 1], [48.86666666666667, 2.333333, 12], [32.88333333333333, 13.166667, 66], [39.91666666666666, 116.383333, 3], [42.43333333333333, 19.266667, 2], [47.5, 19.083333, 1], [35.7, 51.416667, 6]],\n",
       "                {&quot;blur&quot;: 15, &quot;maxZoom&quot;: 18, &quot;minOpacity&quot;: 0.5, &quot;radius&quot;: 25}\n",
       "            ).addTo(map_fafd6fd52e3c0da755662744687e4219);\n",
       "        \n",
       "&lt;/script&gt;\n",
       "&lt;/html&gt;\" style=\"position:absolute;width:100%;height:100%;left:0;top:0;border:none !important;\" allowfullscreen webkitallowfullscreen mozallowfullscreen></iframe></div></div>"
      ],
      "text/plain": [
       "<folium.folium.Map at 0x16275a850>"
      ]
     },
     "execution_count": 16,
     "metadata": {},
     "output_type": "execute_result"
    }
   ],
   "source": [
    "import folium\n",
    "\n",
    "from folium.plugins import HeatMap\n",
    "\n",
    "\n",
    "map_obj = folium.Map(location = [35.233333, 31.766666666666666], zoom_start = 6)\n",
    "\n",
    "HeatMap(lats_longs_weight).add_to(map_obj)\n",
    "\n",
    "map_obj"
   ]
  },
  {
   "cell_type": "code",
   "execution_count": 18,
   "id": "e8a6e518-b977-4f9e-a43c-30bf16a37e95",
   "metadata": {},
   "outputs": [],
   "source": [
    "map_obj.save(\"heat_map-2.html\")"
   ]
  },
  {
   "cell_type": "code",
   "execution_count": 21,
   "id": "dbec14d3-0fff-4fbe-9cd6-dea669c88b37",
   "metadata": {},
   "outputs": [],
   "source": [
    "map_obj.save(\"heat_map-2.png\")"
   ]
  },
  {
   "cell_type": "code",
   "execution_count": null,
   "id": "a29afccd-8ed6-46f3-945e-d2464d994771",
   "metadata": {},
   "outputs": [],
   "source": []
  }
 ],
 "metadata": {
  "kernelspec": {
   "display_name": "Python 3 (ipykernel)",
   "language": "python",
   "name": "python3"
  },
  "language_info": {
   "codemirror_mode": {
    "name": "ipython",
    "version": 3
   },
   "file_extension": ".py",
   "mimetype": "text/x-python",
   "name": "python",
   "nbconvert_exporter": "python",
   "pygments_lexer": "ipython3",
   "version": "3.9.15"
  }
 },
 "nbformat": 4,
 "nbformat_minor": 5
}
